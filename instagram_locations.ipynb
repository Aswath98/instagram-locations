{
  "nbformat": 4,
  "nbformat_minor": 0,
  "metadata": {
    "colab": {
      "name": "instagram-locations.ipynb",
      "private_outputs": true,
      "provenance": []
    },
    "kernelspec": {
      "name": "python3",
      "display_name": "Python 3"
    }
  },
  "cells": [
    {
      "cell_type": "code",
      "metadata": {
        "id": "OMipEUqSieq4"
      },
      "source": [
        "import pandas as pd\r\n",
        "import requests\r\n",
        "import time"
      ],
      "execution_count": null,
      "outputs": []
    },
    {
      "cell_type": "markdown",
      "metadata": {
        "id": "bFHHcUBvisJi"
      },
      "source": [
        "Fetch Instagram - countries"
      ]
    },
    {
      "cell_type": "code",
      "metadata": {
        "id": "e4sZQgkVinRl"
      },
      "source": [
        "import pandas as pd\r\n",
        "import requests\r\n",
        "us_country = pd.DataFrame()\r\n",
        "for i in range(1,4):\r\n",
        "  url = 'https://www.instagram.com/explore/locations/?__a=1&page={}'.format(i)\r\n",
        "  r = requests.get(url,headers={\r\n",
        "          'referer': 'https://www.instagram.com/',\r\n",
        "          'user-agent':'Mozilla/5.0 (Windows NT 10.0; Win64; x64) AppleWebKit/537.36 (KHTML, like Gecko) Chrome/87.0.4280.88 Safari/537.36',\r\n",
        "          'cookie': 'ig_did=082F9BF6-76BB-4557-B2FA-24FB26ECD2FF; mid=XjMH-AALAAH5WWPW16Ja9x3KF-cK; fbm_124024574287414=base_domain=.instagram.com; datr=ToMVX0zMKmkK5kejkzKeJk9S; shbid=9657; ig_nrcb=1; rur=RVA; shbts=1606994055.2370346; csrftoken=X4i6Id1sAcON2WlitZzEzOPfc8e2z7vN; ds_user_id=44715086177; sessionid=44715086177%3AhIYaYJGKloOJcI%3A1; fbsr_124024574287414=0V_dL9-Z31qJ68zxD0660MlIVOcT_oBq2G-GB1gvXGA.eyJ1c2VyX2lkIjoiMTAwMDAzMTk2NjM3NjczIiwiY29kZSI6IkFRQzRhLXc5NXZ1czc2V3pxSlB4dU5Lcm1ZTDg4ZmRYNk80SUZUc0Z1dFlSaGJuaDdQYUtfd3VLMGtKQUYxSkxnWnhJRWZ4bHBMVGVwaUs0MVV3OXM3Q2pOM1kyLVZRVDBQSFA0SWozS2kyTHVrOTVTT2FGeGFtbEFHQi1Lc01SY0ZsV3dBLXJjSWNySXdBa3d3bGdndUk1eUNvQkxmM2E4RXZudU1hVnVNWE82bHU4THp6MnE2cTV1bjRKanlPbEdjR2Mwbm5kdWtxVlM5QnhCOFRxNmJ0cmYzWUtmTERyNjBadFNMZkYxVFVzUkItM2lwSW5COEcyZ2ZvTjZGVWhxSy05Rm1GQ3lZWDFmWUxOS1NKRkIxZlZBN1E4MHBFS0p6T2tIdmxDMXI1elR0OWhHOWk0dGtDcjhCWnpqczB4eF93SV96TmN4TVl5aUFKQmc5MGxmbXNfIiwib2F1dGhfdG9rZW4iOiJFQUFCd3pMaXhuallCQURsellTcG5wdWR5WHlVS3pBZTFwdjJPR2pJU3BHRVRzbVpBdTBjMENVMXRRMWVlWkJZYkNEcDlnelRtZVhPZGpBQU1XVVRNRWd6dHFTeTdpVjlJR3lMWkNtTE04WVpDSDFhbUdtSzM3cm5EZDRzT3BsQW05TVl4RVF5eVlEcFFmVXhxRFpCeE1XMWVNODVvS2VnOXJLdnZsT29zZUFFU3pQdzM2RmU5UCIsImFsZ29yaXRobSI6IkhNQUMtU0hBMjU2IiwiaXNzdWVkX2F0IjoxNjA3NDIzMzE5fQ; urlgen=\"{\\\"49.205.87.181\\\": 24309\\054 \\\"183.82.190.143\\\": 24309\\054 \\\"183.82.191.70\\\": 24309\\054 \\\"183.82.191.10\\\": 24309}:1kmaEk:imiDqyzUv8bU04U2Xk9jt55UMeA\"'\r\n",
        "      })\r\n",
        "  us_country = us_country.append(pd.DataFrame(r.json()['country_list']))"
      ],
      "execution_count": null,
      "outputs": []
    },
    {
      "cell_type": "markdown",
      "metadata": {
        "id": "oUQS6NlNiwVL"
      },
      "source": [
        "Fetch Instagram - cities"
      ]
    },
    {
      "cell_type": "code",
      "metadata": {
        "id": "OFnxf1DAi1nS"
      },
      "source": [
        "us_cities = pd.DataFrame()\r\n",
        "for page in range(1,12):\r\n",
        "  url = 'https://www.instagram.com/explore/locations/US/united-states/?__a=1&page={}'.format(page)\r\n",
        "  r = requests.get(url,headers={\r\n",
        "      'referer': 'https://www.instagram.com/',\r\n",
        "\t    'user-agent':'Mozilla/5.0 (Windows NT 10.0; Win64; x64) AppleWebKit/537.36 (KHTML, like Gecko) Chrome/87.0.4280.88 Safari/537.36',\r\n",
        "\t    'cookie': 'ig_did=082F9BF6-76BB-4557-B2FA-24FB26ECD2FF; mid=XjMH-AALAAH5WWPW16Ja9x3KF-cK; fbm_124024574287414=base_domain=.instagram.com; datr=ToMVX0zMKmkK5kejkzKeJk9S; shbid=9657; ig_nrcb=1; rur=RVA; shbts=1606994055.2370346; csrftoken=X4i6Id1sAcON2WlitZzEzOPfc8e2z7vN; ds_user_id=44715086177; sessionid=44715086177%3AhIYaYJGKloOJcI%3A1; fbsr_124024574287414=0V_dL9-Z31qJ68zxD0660MlIVOcT_oBq2G-GB1gvXGA.eyJ1c2VyX2lkIjoiMTAwMDAzMTk2NjM3NjczIiwiY29kZSI6IkFRQzRhLXc5NXZ1czc2V3pxSlB4dU5Lcm1ZTDg4ZmRYNk80SUZUc0Z1dFlSaGJuaDdQYUtfd3VLMGtKQUYxSkxnWnhJRWZ4bHBMVGVwaUs0MVV3OXM3Q2pOM1kyLVZRVDBQSFA0SWozS2kyTHVrOTVTT2FGeGFtbEFHQi1Lc01SY0ZsV3dBLXJjSWNySXdBa3d3bGdndUk1eUNvQkxmM2E4RXZudU1hVnVNWE82bHU4THp6MnE2cTV1bjRKanlPbEdjR2Mwbm5kdWtxVlM5QnhCOFRxNmJ0cmYzWUtmTERyNjBadFNMZkYxVFVzUkItM2lwSW5COEcyZ2ZvTjZGVWhxSy05Rm1GQ3lZWDFmWUxOS1NKRkIxZlZBN1E4MHBFS0p6T2tIdmxDMXI1elR0OWhHOWk0dGtDcjhCWnpqczB4eF93SV96TmN4TVl5aUFKQmc5MGxmbXNfIiwib2F1dGhfdG9rZW4iOiJFQUFCd3pMaXhuallCQURsellTcG5wdWR5WHlVS3pBZTFwdjJPR2pJU3BHRVRzbVpBdTBjMENVMXRRMWVlWkJZYkNEcDlnelRtZVhPZGpBQU1XVVRNRWd6dHFTeTdpVjlJR3lMWkNtTE04WVpDSDFhbUdtSzM3cm5EZDRzT3BsQW05TVl4RVF5eVlEcFFmVXhxRFpCeE1XMWVNODVvS2VnOXJLdnZsT29zZUFFU3pQdzM2RmU5UCIsImFsZ29yaXRobSI6IkhNQUMtU0hBMjU2IiwiaXNzdWVkX2F0IjoxNjA3NDIzMzE5fQ; urlgen=\"{\\\"49.205.87.181\\\": 24309\\054 \\\"183.82.190.143\\\": 24309\\054 \\\"183.82.191.70\\\": 24309\\054 \\\"183.82.191.10\\\": 24309}:1kmaEk:imiDqyzUv8bU04U2Xk9jt55UMeA\"'\r\n",
        "\t})\r\n",
        "  us_cities = us_cities.append(pd.DataFrame(r.json()['city_list']))\r\n",
        "  us_cities.reset_index()"
      ],
      "execution_count": null,
      "outputs": []
    },
    {
      "cell_type": "markdown",
      "metadata": {
        "id": "cSUHPPwLjNmp"
      },
      "source": [
        "Fetch Instagram - location ( for example - for id c2731353 )"
      ]
    },
    {
      "cell_type": "code",
      "metadata": {
        "id": "vOOMVT0VjWsl"
      },
      "source": [
        "location = pd.DataFrame()\r\n",
        "for i in range(1,12):\r\n",
        "  url = 'https://www.instagram.com/explore/locations/c2731353/?__a=1&page={}'.format(i)\r\n",
        "  r = requests.get(url,headers={\r\n",
        "          'referer': 'https://www.instagram.com/',\r\n",
        "          'user-agent':'Mozilla/5.0 (Windows NT 10.0; Win64; x64) AppleWebKit/537.36 (KHTML, like Gecko) Chrome/87.0.4280.88 Safari/537.36',\r\n",
        "          'cookie': 'ig_did=082F9BF6-76BB-4557-B2FA-24FB26ECD2FF; mid=XjMH-AALAAH5WWPW16Ja9x3KF-cK; fbm_124024574287414=base_domain=.instagram.com; datr=ToMVX0zMKmkK5kejkzKeJk9S; shbid=9657; ig_nrcb=1; rur=RVA; shbts=1606994055.2370346; csrftoken=X4i6Id1sAcON2WlitZzEzOPfc8e2z7vN; ds_user_id=44715086177; sessionid=44715086177%3AhIYaYJGKloOJcI%3A1; fbsr_124024574287414=0V_dL9-Z31qJ68zxD0660MlIVOcT_oBq2G-GB1gvXGA.eyJ1c2VyX2lkIjoiMTAwMDAzMTk2NjM3NjczIiwiY29kZSI6IkFRQzRhLXc5NXZ1czc2V3pxSlB4dU5Lcm1ZTDg4ZmRYNk80SUZUc0Z1dFlSaGJuaDdQYUtfd3VLMGtKQUYxSkxnWnhJRWZ4bHBMVGVwaUs0MVV3OXM3Q2pOM1kyLVZRVDBQSFA0SWozS2kyTHVrOTVTT2FGeGFtbEFHQi1Lc01SY0ZsV3dBLXJjSWNySXdBa3d3bGdndUk1eUNvQkxmM2E4RXZudU1hVnVNWE82bHU4THp6MnE2cTV1bjRKanlPbEdjR2Mwbm5kdWtxVlM5QnhCOFRxNmJ0cmYzWUtmTERyNjBadFNMZkYxVFVzUkItM2lwSW5COEcyZ2ZvTjZGVWhxSy05Rm1GQ3lZWDFmWUxOS1NKRkIxZlZBN1E4MHBFS0p6T2tIdmxDMXI1elR0OWhHOWk0dGtDcjhCWnpqczB4eF93SV96TmN4TVl5aUFKQmc5MGxmbXNfIiwib2F1dGhfdG9rZW4iOiJFQUFCd3pMaXhuallCQURsellTcG5wdWR5WHlVS3pBZTFwdjJPR2pJU3BHRVRzbVpBdTBjMENVMXRRMWVlWkJZYkNEcDlnelRtZVhPZGpBQU1XVVRNRWd6dHFTeTdpVjlJR3lMWkNtTE04WVpDSDFhbUdtSzM3cm5EZDRzT3BsQW05TVl4RVF5eVlEcFFmVXhxRFpCeE1XMWVNODVvS2VnOXJLdnZsT29zZUFFU3pQdzM2RmU5UCIsImFsZ29yaXRobSI6IkhNQUMtU0hBMjU2IiwiaXNzdWVkX2F0IjoxNjA3NDIzMzE5fQ; urlgen=\"{\\\"49.205.87.181\\\": 24309\\054 \\\"183.82.190.143\\\": 24309\\054 \\\"183.82.191.70\\\": 24309\\054 \\\"183.82.191.10\\\": 24309}:1kmaEk:imiDqyzUv8bU04U2Xk9jt55UMeA\"'\r\n",
        "      })\r\n",
        "  \r\n",
        "  location = location.append(pd.DataFrame(r.json()['location_list']))"
      ],
      "execution_count": null,
      "outputs": []
    }
  ]
}